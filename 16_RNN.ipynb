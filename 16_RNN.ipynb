{
 "cells": [
  {
   "cell_type": "code",
   "execution_count": 3,
   "metadata": {},
   "outputs": [],
   "source": [
    "import torch\n",
    "from torch.autograd import Variable\n",
    "import numpy as np\n",
    "import pylab as pl\n",
    "import torch.nn.init as init"
   ]
  },
  {
   "cell_type": "code",
   "execution_count": 5,
   "metadata": {},
   "outputs": [],
   "source": [
    "dtype = torch.FloatTensor\n",
    "input_size, hidden_size, output_size = 7, 6, 1\n",
    "epochs = 300\n",
    "seq_length = 20\n",
    "lr = 0.1\n",
    "data_time_steps = np.linspace(2, 10, seq_length + 1)\n",
    "data = np.sin(data_time_steps)\n",
    "data.resize((seq_length + 1, 1))\n",
    "\n",
    "x = Variable(torch.Tensor(data[:-1]).type(dtype), requires_grad=False)\n",
    "y = Variable(torch.Tensor(data[1:]).type(dtype), requires_grad=False)"
   ]
  },
  {
   "cell_type": "code",
   "execution_count": 6,
   "metadata": {},
   "outputs": [
    {
     "name": "stderr",
     "output_type": "stream",
     "text": [
      "C:\\Users\\kulka\\AppData\\Local\\Temp\\ipykernel_21732\\1045665279.py:3: UserWarning: nn.init.normal is now deprecated in favor of nn.init.normal_.\n",
      "  init.normal(w1, 0.0, 0.4)\n",
      "C:\\Users\\kulka\\AppData\\Local\\Temp\\ipykernel_21732\\1045665279.py:6: UserWarning: nn.init.normal is now deprecated in favor of nn.init.normal_.\n",
      "  init.normal(w2, 0.0, 0.3)\n"
     ]
    }
   ],
   "source": [
    "w1 = torch.FloatTensor(input_size,\n",
    "                       hidden_size).type(dtype)\n",
    "init.normal(w1, 0.0, 0.4)\n",
    "w1 = Variable(w1, requires_grad=True)\n",
    "w2 = torch.FloatTensor(hidden_size, output_size).type(dtype)\n",
    "init.normal(w2, 0.0, 0.3)\n",
    "w2 = Variable(w2, requires_grad=True)"
   ]
  },
  {
   "cell_type": "code",
   "execution_count": 7,
   "metadata": {},
   "outputs": [
    {
     "name": "stdout",
     "output_type": "stream",
     "text": [
      "Epoch: 0 loss 2.4508438110351562\n",
      "Epoch: 10 loss 0.4404779374599457\n",
      "Epoch: 20 loss 0.33088013529777527\n",
      "Epoch: 30 loss 0.2650149166584015\n",
      "Epoch: 40 loss 0.23196545243263245\n",
      "Epoch: 50 loss 0.2118174135684967\n",
      "Epoch: 60 loss 0.19604218006134033\n",
      "Epoch: 70 loss 0.1808515340089798\n",
      "Epoch: 80 loss 0.16507741808891296\n",
      "Epoch: 90 loss 0.14925427734851837\n",
      "Epoch: 100 loss 0.1350429505109787\n",
      "Epoch: 110 loss 0.12469843775033951\n",
      "Epoch: 120 loss 0.12010132521390915\n",
      "Epoch: 130 loss 0.12115418910980225\n",
      "Epoch: 140 loss 0.12472347170114517\n",
      "Epoch: 150 loss 0.12617310881614685\n",
      "Epoch: 160 loss 0.12253563106060028\n",
      "Epoch: 170 loss 0.1138114482164383\n",
      "Epoch: 180 loss 0.10193482041358948\n",
      "Epoch: 190 loss 0.08933393657207489\n",
      "Epoch: 200 loss 0.07792723923921585\n",
      "Epoch: 210 loss 0.06862636655569077\n",
      "Epoch: 220 loss 0.06143231689929962\n",
      "Epoch: 230 loss 0.05590561404824257\n",
      "Epoch: 240 loss 0.05155960097908974\n",
      "Epoch: 250 loss 0.04801052063703537\n",
      "Epoch: 260 loss 0.04499022662639618\n",
      "Epoch: 270 loss 0.04232366755604744\n",
      "Epoch: 280 loss 0.03990188613533974\n",
      "Epoch: 290 loss 0.03766193240880966\n"
     ]
    }
   ],
   "source": [
    "for i in range(epochs):\n",
    "   total_loss = 0\n",
    "   context_state = Variable(torch.zeros(\n",
    "       (1, hidden_size)).type(dtype), requires_grad=True)\n",
    "   for j in range(x.size(0)):\n",
    "      input = x[j:(j+1)]\n",
    "      target = y[j:(j+1)]\n",
    "      (pred, context_state) = forward(input, context_state, w1, w2)\n",
    "      loss = (pred - target).pow(2).sum()/2\n",
    "      total_loss += loss\n",
    "      loss.backward()\n",
    "      w1.data -= lr * w1.grad.data\n",
    "      w2.data -= lr * w2.grad.data\n",
    "      w1.grad.data.zero_()\n",
    "      w2.grad.data.zero_()\n",
    "      context_state = Variable(context_state.data)\n",
    "   if i % 10 == 0:\n",
    "     print('Epoch: {} loss {}'.format(i, total_loss.data))"
   ]
  },
  {
   "cell_type": "code",
   "execution_count": 8,
   "metadata": {},
   "outputs": [],
   "source": [
    "context_state = Variable(torch.zeros(\n",
    "    (1, hidden_size)).type(dtype), requires_grad=False)\n",
    "predictions = []\n",
    "\n",
    "for i in range(x.size(0)):\n",
    "    input = x[i:i+1]\n",
    "    (pred, context_state) = forward(input, context_state, w1, w2)\n",
    "    context_state = context_state\n",
    "    predictions.append(pred.data.numpy().ravel()[0])"
   ]
  },
  {
   "cell_type": "code",
   "execution_count": 9,
   "metadata": {},
   "outputs": [
    {
     "data": {
      "image/png": "[encoded data removed]",
      "text/plain": [
       "<Figure size 432x288 with 1 Axes>"
      ]
     },
     "metadata": {
      "needs_background": "light"
     },
     "output_type": "display_data"
    }
   ],
   "source": [
    "pl.scatter(data_time_steps[:-1], x.data.numpy(), s=90, label=\"Actual\")\n",
    "pl.scatter(data_time_steps[1:], predictions, label=\"Predicted\")\n",
    "pl.legend()\n",
    "pl.show()"
   ]
  }
 ],
 "metadata": {
  "interpreter": {
   "hash": "f4fde45515710cbe4f4cf44a8ddef1b298277709bd6c5462499553af68a98f2e"
  },
  "kernelspec": {
   "display_name": "Python 3.10.3 64-bit",
   "language": "python",
   "name": "python3"
  },
  "language_info": {
   "codemirror_mode": {
    "name": "ipython",
    "version": 3
   },
   "file_extension": ".py",
   "mimetype": "text/x-python",
   "name": "python",
   "nbconvert_exporter": "python",
   "pygments_lexer": "ipython3",
   "version": "3.10.3"
  },
  "orig_nbformat": 4
 },
 "nbformat": 4,
 "nbformat_minor": 2
}
