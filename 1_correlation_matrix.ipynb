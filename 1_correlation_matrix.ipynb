{
 "cells": [
  {
   "cell_type": "code",
   "execution_count": 2,
   "metadata": {},
   "outputs": [],
   "source": [
    "import numpy as np\n",
    "import matplotlib.pyplot as plt"
   ]
  },
  {
   "cell_type": "code",
   "execution_count": 16,
   "metadata": {},
   "outputs": [
    {
     "name": "stdout",
     "output_type": "stream",
     "text": [
      "X=  [-0.66193771  3.46522715  0.39143862  0.32724535 -0.31134706 -1.42465559\n",
      " -0.62487219 -0.1099954   0.95295943 -0.98336264]\n",
      "Y=  [-1.09455719 -0.24134875 -0.59511384 -0.98281189  0.08822993 -0.60275937\n",
      "  1.12555545  0.9270533  -2.26915699 -0.34817064]\n",
      "Correlation Matrix=  [[ 1.         -0.16829182]\n",
      " [-0.16829182  1.        ]]\n"
     ]
    }
   ],
   "source": [
    "#np.random.seed(100)\n",
    "\n",
    "# generating 10 random values for each of the two variables\n",
    "X = np.random.randn(10)\n",
    "print ('X= ',X)\n",
    "\n",
    "Y = np.random.randn(10)\n",
    "print('Y= ',Y)\n",
    "\n",
    "# computing the corrlation matrix\n",
    "C = np.corrcoef(X,Y)\n",
    "print('Correlation Matrix= ',C)"
   ]
  },
  {
   "cell_type": "code",
   "execution_count": 17,
   "metadata": {},
   "outputs": [
    {
     "data": {
      "text/plain": [
       "Text(0, 0.5, 'y axis')"
      ]
     },
     "execution_count": 17,
     "metadata": {},
     "output_type": "execute_result"
    },
    {
     "data": {
      "image/png": "[encoded data removed]",
      "text/plain": [
       "<Figure size 432x288 with 1 Axes>"
      ]
     },
     "metadata": {
      "needs_background": "light"
     },
     "output_type": "display_data"
    }
   ],
   "source": [
    "# adds the title\n",
    "plt.title('Correlation')\n",
    "\n",
    "# plot the data\n",
    "plt.scatter(X, Y)\n",
    "\n",
    "# fits the best fitting line to the data\n",
    "plt.plot(np.unique(X), np.poly1d(np.polyfit(X, Y, 1))\n",
    "         (np.unique(X)), color='red')\n",
    "# Labelling axes\n",
    "plt.xlabel('x axis')\n",
    "plt.ylabel('y axis')\n"
   ]
  }
 ],
 "metadata": {
  "interpreter": {
   "hash": "f4fde45515710cbe4f4cf44a8ddef1b298277709bd6c5462499553af68a98f2e"
  },
  "kernelspec": {
   "display_name": "Python 3.10.3 64-bit",
   "language": "python",
   "name": "python3"
  },
  "language_info": {
   "codemirror_mode": {
    "name": "ipython",
    "version": 3
   },
   "file_extension": ".py",
   "mimetype": "text/x-python",
   "name": "python",
   "nbconvert_exporter": "python",
   "pygments_lexer": "ipython3",
   "version": "3.10.3"
  },
  "orig_nbformat": 4
 },
 "nbformat": 4,
 "nbformat_minor": 2
}
