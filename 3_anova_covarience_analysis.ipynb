{
 "cells": [
  {
   "cell_type": "code",
   "execution_count": 1,
   "metadata": {},
   "outputs": [],
   "source": [
    "import pandas as pd\n",
    "from seaborn import load_dataset\n",
    "import statsmodels.api as sm\n",
    "from statsmodels.formula.api import ols"
   ]
  },
  {
   "cell_type": "code",
   "execution_count": 3,
   "metadata": {},
   "outputs": [
    {
     "data": {
      "text/html": [
       "<table class=\"simpletable\">\n",
       "<caption>OLS Regression Results</caption>\n",
       "<tr>\n",
       "  <th>Dep. Variable:</th>      <td>SepalLengthCm</td>  <th>  R-squared:         </th> <td>   0.868</td>\n",
       "</tr>\n",
       "<tr>\n",
       "  <th>Model:</th>                   <td>OLS</td>       <th>  Adj. R-squared:    </th> <td>   0.863</td>\n",
       "</tr>\n",
       "<tr>\n",
       "  <th>Method:</th>             <td>Least Squares</td>  <th>  F-statistic:       </th> <td>   188.8</td>\n",
       "</tr>\n",
       "<tr>\n",
       "  <th>Date:</th>             <td>Tue, 03 May 2022</td> <th>  Prob (F-statistic):</th> <td>2.22e-61</td>\n",
       "</tr>\n",
       "<tr>\n",
       "  <th>Time:</th>                 <td>17:36:37</td>     <th>  Log-Likelihood:    </th> <td> -32.367</td>\n",
       "</tr>\n",
       "<tr>\n",
       "  <th>No. Observations:</th>      <td>   150</td>      <th>  AIC:               </th> <td>   76.73</td>\n",
       "</tr>\n",
       "<tr>\n",
       "  <th>Df Residuals:</th>          <td>   144</td>      <th>  BIC:               </th> <td>   94.80</td>\n",
       "</tr>\n",
       "<tr>\n",
       "  <th>Df Model:</th>              <td>     5</td>      <th>                     </th>     <td> </td>   \n",
       "</tr>\n",
       "<tr>\n",
       "  <th>Covariance Type:</th>      <td>nonrobust</td>    <th>                     </th>     <td> </td>   \n",
       "</tr>\n",
       "</table>\n",
       "<table class=\"simpletable\">\n",
       "<tr>\n",
       "                <td></td>                   <th>coef</th>     <th>std err</th>      <th>t</th>      <th>P>|t|</th>  <th>[0.025</th>    <th>0.975]</th>  \n",
       "</tr>\n",
       "<tr>\n",
       "  <th>Intercept</th>                     <td>    2.1586</td> <td>    0.279</td> <td>    7.726</td> <td> 0.000</td> <td>    1.606</td> <td>    2.711</td>\n",
       "</tr>\n",
       "<tr>\n",
       "  <th>C(Species)[T.Iris-versicolor]</th> <td>   -0.7141</td> <td>    0.240</td> <td>   -2.974</td> <td> 0.003</td> <td>   -1.189</td> <td>   -0.239</td>\n",
       "</tr>\n",
       "<tr>\n",
       "  <th>C(Species)[T.Iris-virginica]</th>  <td>   -1.0096</td> <td>    0.334</td> <td>   -3.022</td> <td> 0.003</td> <td>   -1.670</td> <td>   -0.349</td>\n",
       "</tr>\n",
       "<tr>\n",
       "  <th>SepalWidthCm</th>                  <td>    0.5011</td> <td>    0.086</td> <td>    5.816</td> <td> 0.000</td> <td>    0.331</td> <td>    0.671</td>\n",
       "</tr>\n",
       "<tr>\n",
       "  <th>PetalLengthCm</th>                 <td>    0.8288</td> <td>    0.068</td> <td>   12.136</td> <td> 0.000</td> <td>    0.694</td> <td>    0.964</td>\n",
       "</tr>\n",
       "<tr>\n",
       "  <th>PetalWidthCm</th>                  <td>   -0.3221</td> <td>    0.151</td> <td>   -2.129</td> <td> 0.035</td> <td>   -0.621</td> <td>   -0.023</td>\n",
       "</tr>\n",
       "</table>\n",
       "<table class=\"simpletable\">\n",
       "<tr>\n",
       "  <th>Omnibus:</th>       <td> 0.398</td> <th>  Durbin-Watson:     </th> <td>   1.962</td>\n",
       "</tr>\n",
       "<tr>\n",
       "  <th>Prob(Omnibus):</th> <td> 0.820</td> <th>  Jarque-Bera (JB):  </th> <td>   0.554</td>\n",
       "</tr>\n",
       "<tr>\n",
       "  <th>Skew:</th>          <td>-0.064</td> <th>  Prob(JB):          </th> <td>   0.758</td>\n",
       "</tr>\n",
       "<tr>\n",
       "  <th>Kurtosis:</th>      <td> 2.732</td> <th>  Cond. No.          </th> <td>    94.2</td>\n",
       "</tr>\n",
       "</table><br/><br/>Notes:<br/>[1] Standard Errors assume that the covariance matrix of the errors is correctly specified."
      ],
      "text/plain": [
       "<class 'statsmodels.iolib.summary.Summary'>\n",
       "\"\"\"\n",
       "                            OLS Regression Results                            \n",
       "==============================================================================\n",
       "Dep. Variable:          SepalLengthCm   R-squared:                       0.868\n",
       "Model:                            OLS   Adj. R-squared:                  0.863\n",
       "Method:                 Least Squares   F-statistic:                     188.8\n",
       "Date:                Tue, 03 May 2022   Prob (F-statistic):           2.22e-61\n",
       "Time:                        17:36:37   Log-Likelihood:                -32.367\n",
       "No. Observations:                 150   AIC:                             76.73\n",
       "Df Residuals:                     144   BIC:                             94.80\n",
       "Df Model:                           5                                         \n",
       "Covariance Type:            nonrobust                                         \n",
       "=================================================================================================\n",
       "                                    coef    std err          t      P>|t|      [0.025      0.975]\n",
       "-------------------------------------------------------------------------------------------------\n",
       "Intercept                         2.1586      0.279      7.726      0.000       1.606       2.711\n",
       "C(Species)[T.Iris-versicolor]    -0.7141      0.240     -2.974      0.003      -1.189      -0.239\n",
       "C(Species)[T.Iris-virginica]     -1.0096      0.334     -3.022      0.003      -1.670      -0.349\n",
       "SepalWidthCm                      0.5011      0.086      5.816      0.000       0.331       0.671\n",
       "PetalLengthCm                     0.8288      0.068     12.136      0.000       0.694       0.964\n",
       "PetalWidthCm                     -0.3221      0.151     -2.129      0.035      -0.621      -0.023\n",
       "==============================================================================\n",
       "Omnibus:                        0.398   Durbin-Watson:                   1.962\n",
       "Prob(Omnibus):                  0.820   Jarque-Bera (JB):                0.554\n",
       "Skew:                          -0.064   Prob(JB):                        0.758\n",
       "Kurtosis:                       2.732   Cond. No.                         94.2\n",
       "==============================================================================\n",
       "\n",
       "Notes:\n",
       "[1] Standard Errors assume that the covariance matrix of the errors is correctly specified.\n",
       "\"\"\""
      ]
     },
     "execution_count": 3,
     "metadata": {},
     "output_type": "execute_result"
    }
   ],
   "source": [
    "df = pd.read_csv('./datasets/Iris.csv')\n",
    "df.head()\n",
    "df.describe()\n",
    "iris_lm = ols('SepalLengthCm ~ C(Species) + SepalWidthCm + PetalLengthCm + PetalWidthCm', data=df).fit()  # Specify C for Categorical\n",
    "sm.stats.anova_lm(iris_lm, typ=2)\n",
    "iris_lm.summary()"
   ]
  }
 ],
 "metadata": {
  "interpreter": {
   "hash": "f4fde45515710cbe4f4cf44a8ddef1b298277709bd6c5462499553af68a98f2e"
  },
  "kernelspec": {
   "display_name": "Python 3.10.3 64-bit",
   "language": "python",
   "name": "python3"
  },
  "language_info": {
   "codemirror_mode": {
    "name": "ipython",
    "version": 3
   },
   "file_extension": ".py",
   "mimetype": "text/x-python",
   "name": "python",
   "nbconvert_exporter": "python",
   "pygments_lexer": "ipython3",
   "version": "3.10.3"
  },
  "orig_nbformat": 4
 },
 "nbformat": 4,
 "nbformat_minor": 2
}
