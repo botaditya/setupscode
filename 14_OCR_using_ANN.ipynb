{
 "cells": [
  {
   "cell_type": "code",
   "execution_count": 4,
   "metadata": {},
   "outputs": [
    {
     "name": "stdout",
     "output_type": "stream",
     "text": [
      "First, calm down,\n",
      "Next stay that way\n",
      "\n"
     ]
    }
   ],
   "source": [
    "import pytesseract\n",
    "import shutil\n",
    "import os\n",
    "import random\n",
    "from PIL import Image\n",
    "\n",
    "pytesseract.pytesseract.tesseract_cmd = r'C:\\Program Files\\Tesseract-OCR\\tesseract.exe'\n",
    "image_path_in_colab = './images/poem_ocr.jpg'\n",
    "extractedInformation = pytesseract.image_to_string(Image.open(image_path_in_colab))\n",
    "print(extractedInformation)"
   ]
  }
 ],
 "metadata": {
  "interpreter": {
   "hash": "f4fde45515710cbe4f4cf44a8ddef1b298277709bd6c5462499553af68a98f2e"
  },
  "kernelspec": {
   "display_name": "Python 3.10.3 64-bit",
   "language": "python",
   "name": "python3"
  },
  "language_info": {
   "codemirror_mode": {
    "name": "ipython",
    "version": 3
   },
   "file_extension": ".py",
   "mimetype": "text/x-python",
   "name": "python",
   "nbconvert_exporter": "python",
   "pygments_lexer": "ipython3",
   "version": "3.10.3"
  },
  "orig_nbformat": 4
 },
 "nbformat": 4,
 "nbformat_minor": 2
}
